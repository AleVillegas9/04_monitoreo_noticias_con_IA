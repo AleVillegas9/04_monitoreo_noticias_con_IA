{
 "cells": [
  {
   "cell_type": "markdown",
   "id": "a0eb349c-5e83-4edc-8c2f-b4a3cf8602a3",
   "metadata": {},
   "source": [
    "# 03. Monitoreo semiautomático de noticias con IA."
   ]
  },
  {
   "cell_type": "markdown",
   "id": "effdfe6a-bfb7-4a26-9a29-a33f536e0217",
   "metadata": {},
   "source": [
    "Alejandro Villegas\n",
    "**MODIFICAR**\n",
    "\n",
    "2025-05-16\n",
    "\n",
    "Esta proyecto/demostración está realizado en lenguaje Python. Para su construcción se utilizó el entorno de desarrollo Spyder. Para la cosntrucción de este documento explicativo se utilizó el entorno de desarrollo Jupyter y formato Markdown. \n",
    "\n",
    "En el repositorio de github de este proyecto encontrarás, los insumos y el código y los productos del código aquí explicados. Esto para facilitar su reproductibilidad. **PONER LINK**\n",
    "\n"
   ]
  },
  {
   "cell_type": "markdown",
   "id": "f1a20f5d-0eca-434b-8d00-48fe4654eaef",
   "metadata": {},
   "source": [
    "# Problema a resolver\n",
    "\n",
    "Las tecnologías de la información nos permiten tener acceso a un gran número de noticias de distintos portales, y continuamente se están produciendo cada vez más noticias de manera acelerada. Por lo cual, el trabajo de una persona que se dedica a monitorear noticias se vuelve cada vez más complejo y exhaustivo. El flujo de trabajo de dicha persona es muy complejo, pues inicia identificando los criterios relevantes para su busqueda, sigue con la identificación de los sitios de noticias relevantes, y sigue con la lectura, análisis, clasificación y sistematización de cada una de las noticias que puedan ser relevantes. Sin embargo, nos podemos ayudar de los lenguajes de programación como Python y de su integració con Modelos grandes de lenguaje (LLM's, por sus siglas en inglés), para facilitar esta tarea. \n",
    "\n",
    "Así pues, el problema a resolver con esta demostración/proyecto, es el de simplificar el flujo de trabajo de un monitoreador de noticias, semi-automatizando ciertos procesos. Considero que es una semi-automatización debido a que considero que es importante dejar que en cada paso del proceso, el usuario tenga control para modificar las noticias que se toman en cuenta. Esto es muy importante, pues si bien un proyecto/demostración como este ayuda, no sustituye de ninguna manera el trabajo de un monitor experto, sólo pretende simplificarlo."
   ]
  },
  {
   "cell_type": "markdown",
   "id": "787aade9-9e12-4921-83a2-f072d2f45b3f",
   "metadata": {},
   "source": [
    "# Insumos \n",
    "\n",
    "Para este proyecto/demostración se presupone que el usario ya tiene identificado el tema de interés y los criterios de su busqueda y los portales de noticias que le interesan. Así pues, las herramientas necesarias son:\n",
    "\n",
    "- Python.\n",
    "- Algún LLM\n",
    "- Excel\n",
    "\n",
    "Y los insumos necesarios son:\n",
    "\n",
    "- Páginas que se desean monitorear. En este caso: https://news.un.org/es/news\n"
   ]
  },
  {
   "cell_type": "markdown",
   "id": "c0598982-3dc2-46ef-bba9-f69b4a115623",
   "metadata": {},
   "source": [
    "# Metodología"
   ]
  },
  {
   "cell_type": "markdown",
   "id": "a7c59fd1-cd62-4118-a6b3-dc592c82ba4a",
   "metadata": {},
   "source": [
    "# Paso 1: Creamos el *scraper*"
   ]
  },
  {
   "cell_type": "markdown",
   "id": "0bd851c8-f3ef-4540-a2bf-c71571030b09",
   "metadata": {},
   "source": [
    "Como se presupone que ya se tiene identificada la página que queremos monitorear y los críterios de dicho monitoreo, el primer paso es crear un programa que nos permita recuperar la información relevante de la página de internet, es decir, un *scraper*. Para crear dicho programa, primero importamos las librerias pertinentes. "
   ]
  },
  {
   "cell_type": "code",
   "execution_count": 1,
   "id": "10fa0c65-abf0-4867-8709-40755a55873b",
   "metadata": {},
   "outputs": [],
   "source": [
    "import requests\n",
    "from bs4 import BeautifulSoup\n",
    "import pandas as pd"
   ]
  },
  {
   "cell_type": "markdown",
   "id": "61e69b4d-4b78-4c6c-a878-d9a35a35c86a",
   "metadata": {},
   "source": [
    "Es importante mencionar que estas librerias funcionan para ciertas páginas, pues hay algunas que tienen una política anti-scraping, que impiden el uso de estas herramientas. Sin embargo, si el usuario se ve en esta situación, puede usar librerias alternas como Selene, o servicios como el que ofrece la página [Browse.AI](https://www.browse.ai/). Como por ahora sólo se trata de un demo, las librerías usadas son suficientes. "
   ]
  },
  {
   "cell_type": "markdown",
   "id": "8afafd0d-e04f-42a5-9a70-015211b6275a",
   "metadata": {},
   "source": [
    "Posteriormente, establecemos un header, que servirán como datos para *simular* una petición más humana a las páginas web que deseemos consultar. En este caso simulamos que usamos los navegadores específicados. Esto nos ayudará a evitar ciertos bloqueos. Así mismo, establecemos la página base a scrapear, y in timeout de 10 para evitar bloqueos en nuestro *scraper*"
   ]
  },
  {
   "cell_type": "code",
   "execution_count": 2,
   "id": "bbc2d194-28fe-479e-975e-8600c019dfb9",
   "metadata": {},
   "outputs": [],
   "source": [
    "headers = {\n",
    "    \"User-Agent\": (\n",
    "        \"Mozilla/5.0 (Windows NT 10.0; Win64; x64) \"\n",
    "        \"AppleWebKit/537.36 (KHTML, like Gecko) \"\n",
    "        \"Chrome/58.0.3029.110 Safari/537.3\"\n",
    "    )\n",
    "}\n",
    "\n",
    "BASE_URL = \"https://news.un.org/es/news?page=\"\n",
    "TIMEOUT = 10"
   ]
  },
  {
   "cell_type": "markdown",
   "id": "f0b671b7-379b-4b7d-9ee4-6bb8bc8d3cef",
   "metadata": {},
   "source": [
    "Posteriormente, establecemos la o las palabras clave que nos interesa buscar en el contenido de las noticias. También se pueden usar operadores como OR y AND para complejizar las palabras clave que deseamos. Posteiormente se crea una lista para guardar los resultados. "
   ]
  },
  {
   "cell_type": "code",
   "execution_count": 4,
   "id": "d7e8b310-999d-4148-84df-41f23123e9d7",
   "metadata": {},
   "outputs": [],
   "source": [
    "# Lista de palabras clave a buscar en las noticia\n",
    "keywords = [\"inteligencia artificial\", \"Inteligencia Artificial\"]\n",
    "\n",
    "# Lista donde se guardarán los resultados del scraper\n",
    "resultados_filtrados = []"
   ]
  },
  {
   "cell_type": "markdown",
   "id": "5fcac00b-36b1-4338-993a-736406b4b3c8",
   "metadata": {},
   "source": [
    "Finalmente, creamos y ejecutamos nuestro *scraper*. La misión principal de este programa es recuperar el título, la url y la fecha de las noticias que cumplan los criterios. En este caso, que contenga alguna de las palabras clave y que hayan sido publicadas en el mes de mayo del 2025. \n",
    "\n",
    "Aquí hay varios puntos a notar:\n",
    "- Se le da la indicación de buscar en las primeras 10 páginas del portal. Esto es así, porque sólo nos interesan las noticas de un mes en específico. En este sentido, una revisión prevía de la página base, nos revela que las noticias de un sólo mes, no abarcan más de 8 páginas. Aquí puse 10 para asegurar que se localicen todas las páginas deseadas. Como el mes de mi elección es mayo del 2025 (mes de creación de este demo), utilizo las primers 10 páginas.\n",
    "- En cada proceso que puede fallar, en caso de que lo haga se configura para que salga un mensaje de error, esto ayuda a que en caso de qie se requieran ajustes, se pueda saber más fácilmente qué parte es la que falla. Los emojis son opcionales.\n",
    "- Antes de correr el código, se tiene que explorar el código fuente de la página base para identificar los indicadores clave que nos interesan. En este caso, el contenedor donde se encuentra cada noticia, el contenedor del título, y el de la fecha de publicación. Cada página tiene sus propios indicadores, por lo cuál, el *scraper* debe ser adaptado a cada página que queramos monitorear.\n",
    "- Se configura un mensaje para que al finalizar el programa veamos los resultados. En estricto sentido esto es opcional, pero es útil para seguir el paso del programa."
   ]
  },
  {
   "cell_type": "code",
   "execution_count": 5,
   "id": "52d45be3-c9c8-476e-8d7c-0c7c7f9cab3a",
   "metadata": {},
   "outputs": [
    {
     "name": "stdout",
     "output_type": "stream",
     "text": [
      "Procesando: https://news.un.org/es/news?page=0\n",
      "Procesando: https://news.un.org/es/news?page=1\n",
      "Procesando: https://news.un.org/es/news?page=2\n",
      "Procesando: https://news.un.org/es/news?page=3\n",
      "Procesando: https://news.un.org/es/news?page=4\n",
      "Procesando: https://news.un.org/es/news?page=5\n",
      "Procesando: https://news.un.org/es/news?page=6\n",
      "Procesando: https://news.un.org/es/news?page=7\n",
      "Procesando: https://news.un.org/es/news?page=8\n",
      "Procesando: https://news.un.org/es/news?page=9\n",
      "\n",
      "=== RESULTADOS (contienen al menos una de las keywords) ===\n",
      "1. [12 Mayo 2025] El cambio climático afecta cada vez más a los países africanos\n",
      "   URL: https://news.un.org/es/story/2025/05/1538596\n",
      "\n",
      "2. [6 Mayo 2025] Ayuda a Gaza, refugiados de Sudán, desarrollo humano... Las noticias del martes\n",
      "   URL: https://news.un.org/es/story/2025/05/1538536\n",
      "\n",
      "3. [6 Mayo 2025] Desaceleración «alarmante» del desarrollo humano: ¿podría la IA aportar respuestas?\n",
      "   URL: https://news.un.org/es/story/2025/05/1538516\n",
      "\n",
      "4. [2 Mayo 2025] Gaza, refugiados, libertad de prensa... Las noticias del viernes\n",
      "   URL: https://news.un.org/es/story/2025/05/1538451\n",
      "\n",
      "5. [2 Mayo 2025] Los periodistas de Gaza son testigos y víctimas a la vez\n",
      "   URL: https://news.un.org/es/story/2025/05/1538436\n",
      "\n",
      "Total de noticias encontradas: 5\n"
     ]
    }
   ],
   "source": [
    "for page in range(10):  # Revisar páginas 0 a 9, pues las noticias del mes no están más allá de esta página. \n",
    "    url = f\"{BASE_URL}{page}\"\n",
    "    print(f\"Procesando: {url}\")\n",
    "\n",
    "    # Parte que descarga la página\n",
    "    try:\n",
    "        response = requests.get(url, headers=headers, timeout=TIMEOUT)\n",
    "        response.raise_for_status()\n",
    "    except requests.exceptions.Timeout:\n",
    "        print(f\"⚠️  La solicitud excedió el tiempo de espera en {url}\")\n",
    "        continue\n",
    "    except requests.exceptions.RequestException as e:\n",
    "        print(f\"⚠️  Error al acceder a {url}: {e}\")\n",
    "        continue\n",
    "\n",
    "    # Parte que estandariza o parsea el código html de las páginas. \n",
    "    soup = BeautifulSoup(response.text, \"html.parser\")\n",
    "\n",
    "    # Parte que encuentra los contenedores de noticias <div class=\"views-row\">\n",
    "    noticias = soup.find_all(\"div\", class_=\"views-row\")\n",
    "    for noticia in noticias:\n",
    "        # Parte que extrae fechas desde <time class=\"datetime\">\n",
    "        time_element = noticia.find(\"time\", class_=\"datetime\")\n",
    "        if not time_element:\n",
    "            continue\n",
    "        \n",
    "        time_text = time_element.get_text(strip=True)\n",
    "        datetime_attr = time_element.get(\"datetime\", \"\")\n",
    "\n",
    "        # Verificación de que sea del mes que queremos\n",
    "        if not datetime_attr.startswith(\"2025-05\"):\n",
    "            continue\n",
    "\n",
    "        # Parte que extraer título y enlace\n",
    "        titulo_element = noticia.find([\"h2\", \"h3\"])\n",
    "        if not titulo_element:\n",
    "            continue\n",
    "        \n",
    "        enlace_element = titulo_element.find(\"a\")\n",
    "        if not enlace_element or not enlace_element.get(\"href\"):\n",
    "            continue\n",
    "\n",
    "        titulo = enlace_element.get_text(strip=True)\n",
    "        enlace_parcial = enlace_element[\"href\"]\n",
    "        if enlace_parcial.startswith(\"http\"):\n",
    "            enlace = enlace_parcial\n",
    "        else:\n",
    "            enlace = \"https://news.un.org\" + enlace_parcial\n",
    "\n",
    "        # Parte que hace una segunda solicitud para verificar el contenido completo y ver si contiene las palabras clave\n",
    "        try:\n",
    "            resp_noticia = requests.get(enlace, headers=headers, timeout=TIMEOUT)\n",
    "            resp_noticia.raise_for_status()\n",
    "        except requests.exceptions.Timeout:\n",
    "            print(f\"⚠️  Timeout al obtener contenido de la noticia: {enlace}\")\n",
    "            continue\n",
    "        except requests.exceptions.RequestException as e:\n",
    "            print(f\"⚠️  Error al obtener contenido de la noticia en {enlace}: {e}\")\n",
    "            continue\n",
    "\n",
    "        # Parte para obtener el texto completo y buscar cualquiera de las palabras clave\n",
    "        soup_noticia = BeautifulSoup(resp_noticia.text, \"html.parser\")\n",
    "        contenido = soup_noticia.get_text(separator=\" \", strip=True).lower()\n",
    "        \n",
    "        #Parte para verifciar si hay palabras las palabras clave\n",
    "        if any(keyword in contenido for keyword in keywords):\n",
    "            resultados_filtrados.append({\n",
    "                \"titulo\": titulo,\n",
    "                \"url\": enlace,\n",
    "                \"fecha\": time_text\n",
    "            })\n",
    "#nota: Si quieremos que aparezcan todas las palabras, cambiar el any por all\n",
    "\n",
    "# Parte para mostrar las noticias filtradas en la consola\n",
    "print(\"\\n=== RESULTADOS (contienen al menos una de las keywords) ===\")\n",
    "for i, item in enumerate(resultados_filtrados, start=1):\n",
    "    print(f\"{i}. [{item['fecha']}] {item['titulo']}\")\n",
    "    print(f\"   URL: {item['url']}\\n\")\n",
    "\n",
    "print(f\"Total de noticias encontradas: {len(resultados_filtrados)}\")"
   ]
  },
  {
   "cell_type": "markdown",
   "id": "ad88a9d1-5f50-42ba-97f2-f1277af22fe7",
   "metadata": {},
   "source": [
    "Finalmente, para llevar a cabo futuros proceso, convertimos los resultados en una base de datos. "
   ]
  },
  {
   "cell_type": "code",
   "execution_count": 6,
   "id": "e733f6cb-6f83-4ad6-b833-fc7b1c89b19b",
   "metadata": {},
   "outputs": [
    {
     "name": "stdout",
     "output_type": "stream",
     "text": [
      "                                              titulo  \\\n",
      "0  El cambio climático afecta cada vez más a los ...   \n",
      "1  Ayuda a Gaza, refugiados de Sudán, desarrollo ...   \n",
      "2  Desaceleración «alarmante» del desarrollo huma...   \n",
      "3  Gaza, refugiados, libertad de prensa... Las no...   \n",
      "4  Los periodistas de Gaza son testigos y víctima...   \n",
      "\n",
      "                                            url         fecha  \n",
      "0  https://news.un.org/es/story/2025/05/1538596  12 Mayo 2025  \n",
      "1  https://news.un.org/es/story/2025/05/1538536   6 Mayo 2025  \n",
      "2  https://news.un.org/es/story/2025/05/1538516   6 Mayo 2025  \n",
      "3  https://news.un.org/es/story/2025/05/1538451   2 Mayo 2025  \n",
      "4  https://news.un.org/es/story/2025/05/1538436   2 Mayo 2025  \n"
     ]
    }
   ],
   "source": [
    "base_noticias = pd.DataFrame(resultados_filtrados)\n",
    "print(base_noticias)"
   ]
  },
  {
   "cell_type": "markdown",
   "id": "c8d9cf9b-e361-47eb-83d2-3772fd7fbe9e",
   "metadata": {},
   "source": [
    "De quererlo, guardamos los resultados en un archivo excel. Para lograrlo, sólo establecemos una ruta de salida donde se guardará el archivo, y ejecutamos el método (función) correspondiente. Notece que la base contiene tres columnas, cada una con los datos que se querían recuperar  (título, url, fecha de publicación). Esto es importante, pues permitirá al usuario verificar manualmente cada una de las noticias arrojadas por el *scraper*, y determinar su relevancia. "
   ]
  },
  {
   "cell_type": "code",
   "execution_count": null,
   "id": "abf0f69d-e277-438d-99f1-2e0b6329c8a1",
   "metadata": {},
   "outputs": [],
   "source": [
    "ruta_sal =r\"C:\\Users\\javal\\OneDrive\\Desktop\\Portafolio 9\\04_demo_monitoreo_noticias IA\\04\\base_noticias.xlsx\"\n",
    "base_noticias.to_excel(ruta_sal, index=False)"
   ]
  },
  {
   "cell_type": "markdown",
   "id": "887b4361-7439-47c6-855a-022656d12814",
   "metadata": {},
   "source": [
    "# Paso 2: Clasificar noticias con IA."
   ]
  },
  {
   "cell_type": "markdown",
   "id": "68910358-9507-447d-831c-e771b94b41b2",
   "metadata": {},
   "source": [
    "Una vez que el usaurio haya verificado las noticias de la lista, el siguiente paso es clasificar las noticias entre las que son relevantes para nuestros propósitos de las que no. Tradicionalmente, esto tendríamos que hacer leyendo y analizando una por una las noticias. Y si bien aquí sólo son cinco noticias, hay ocasiones en las que pueden ser muchísimas. Sin embargo, podemos ayudarnos de los LLM's para facilitar este trabajo. \n",
    "\n",
    "Así pues, primero cargamos nuestra base de noticias (si es que se modificó la base del paso anterior), y hacemos una lista con las url de las noticias, que ya tenemos."
   ]
  },
  {
   "cell_type": "code",
   "execution_count": 9,
   "id": "04e4bd6c-b97a-4d0e-b2bd-d604039d3ff3",
   "metadata": {},
   "outputs": [
    {
     "name": "stdout",
     "output_type": "stream",
     "text": [
      "                                              titulo  \\\n",
      "0  El cambio climático afecta cada vez más a los ...   \n",
      "1  Ayuda a Gaza, refugiados de Sudán, desarrollo ...   \n",
      "2  Desaceleración «alarmante» del desarrollo huma...   \n",
      "3  Gaza, refugiados, libertad de prensa... Las no...   \n",
      "4  Los periodistas de Gaza son testigos y víctima...   \n",
      "\n",
      "                                            url         fecha  \n",
      "0  https://news.un.org/es/story/2025/05/1538596  12 Mayo 2025  \n",
      "1  https://news.un.org/es/story/2025/05/1538536   6 Mayo 2025  \n",
      "2  https://news.un.org/es/story/2025/05/1538516   6 Mayo 2025  \n",
      "3  https://news.un.org/es/story/2025/05/1538451   2 Mayo 2025  \n",
      "4  https://news.un.org/es/story/2025/05/1538436   2 Mayo 2025  \n"
     ]
    }
   ],
   "source": [
    "base_noticias_pre = pd.read_excel(r\"C:\\Users\\javal\\OneDrive\\Desktop\\Portafolio 9\\04_demo_monitoreo_noticias IA\\04\\base_noticias.xlsx\")\n",
    "\n",
    "urls = base_noticias_pre ['url'].dropna().tolist() \n",
    "\n",
    "print (base_noticias_pre)\n",
    "\n"
   ]
  },
  {
   "cell_type": "code",
   "execution_count": 10,
   "id": "bf823396-bcc0-4723-8783-b4663d5b4f49",
   "metadata": {},
   "outputs": [
    {
     "name": "stdout",
     "output_type": "stream",
     "text": [
      "['https://news.un.org/es/story/2025/05/1538596', 'https://news.un.org/es/story/2025/05/1538536', 'https://news.un.org/es/story/2025/05/1538516', 'https://news.un.org/es/story/2025/05/1538451', 'https://news.un.org/es/story/2025/05/1538436']\n"
     ]
    }
   ],
   "source": [
    "print (urls)"
   ]
  },
  {
   "cell_type": "markdown",
   "id": "aa4001e0-82bd-4a27-98c5-47902e61d90d",
   "metadata": {},
   "source": [
    "Posteriormente, hacemos otro *scraper* que recupere el contenido de cada una de las url de la lista. Para ello, usamos una librería especializada en la tarea *newspaper*. Guardamos el contenido de cada noticia en una lista creada antes de ejecutar. "
   ]
  },
  {
   "cell_type": "code",
   "execution_count": 14,
   "id": "9b370705-5962-4376-978f-8ae03df19f46",
   "metadata": {},
   "outputs": [],
   "source": [
    "from newspaper import Article\n",
    "import time\n",
    "\n",
    "contenidos_pre = []\n",
    "\n",
    "for url in urls:\n",
    "    try:\n",
    "        articulo = Article(url)\n",
    "        articulo.download()\n",
    "        articulo.parse()\n",
    "        contenidos_pre.append(articulo.text)\n",
    "    except Exception as e:\n",
    "        print(f\"❌ Error al procesar {url}: {e}\")\n",
    "        contenidos_pre.append('Error')\n",
    "\n",
    "    # Pausa de 1.5 segundos entre cada descarga\n",
    "    time.sleep(1.5)"
   ]
  },
  {
   "cell_type": "markdown",
   "id": "e5a4beb3-315e-4294-9ea7-a4a868597ea8",
   "metadata": {},
   "source": [
    "La lista de los contenidos de cada noticia luciría así:"
   ]
  },
  {
   "cell_type": "code",
   "execution_count": 15,
   "id": "56c15f29-9fd2-44f3-9715-cf0601c6f261",
   "metadata": {},
   "outputs": [
    {
     "name": "stdout",
     "output_type": "stream",
     "text": [
      "['Las condiciones meteorológicas extremas y las consecuencias del cambio climático están afectando el desarrollo socioeconómico de África: exacerbando el hambre, la inseguridad y los desplazamientos, según el informe publicado por la Organización Meteorológica Mundial (OMM) este lunes sobre el estado del clima en África 2024.\\n\\nEl informe destaca los retos para la agricultura y el medio ambiente; la seguridad alimentaria, hídrica y energética; y la salud y la educación, haciendo hincapié en las oportunidades y las nuevas herramientas para hacer frente a los retos.\\n\\n“El informe sobre el estado del clima en África refleja la realidad urgente y creciente del cambio climático en todo el continente”, afirmó Celeste Saulo, secretaria general de la OMM.\\n\\n“También revela un patrón marcado de fenómenos meteorológicos extremos, en el que algunos países se enfrentan a inundaciones excepcionales causadas por precipitaciones excesivas, y otros soportan sequías persistentes y escasez de agua”.\\n\\nEl calor extremo afecta a la agricultura, la productividad laboral y la educación\\n\\nEl año 2024 fue el más cálido o el segundo más cálido, y la última década ha sido la más cálida registrada, afectando a la agricultura, la productividad laboral y perturbando la educación.\\n\\nLa temperatura media en superficie en toda África en 2024 fue aproximadamente 0,86 °C superior a la media de 1991-2020. El norte de África registró la temperatura más alta, 1,28 °C por encima de la media, convirtiéndose en la subregión que más rápido se está calentando.\\n\\nLas temperaturas de la superficie del mar fueron las más altas registradas, por delante de las de 2023, especialmente en el océano Atlántico y el mar Mediterráneo.\\n\\nEste aumento de temperaturas en los océanos perturba los ecosistemas marinos y pueden intensificar las tormentas tropicales, además con el aumento del nivel del mar podría plantear amenazas adicionales a las comunidades costeras.\\n\\nDesde las peores sequias en dos décadas hasta graves inundaciones\\n\\nEl sur de África experimentó condiciones de sequía perjudiciales, especialmente en Malawi, Zambia y Zimbabue, que sufrieron la peor sequía en al menos dos décadas. El rendimiento total de los cereales en la zona fue un 16% inferior a los últimos cinco años.\\n\\nEl bajo nivel de las aguas y la escasa producción hidroeléctrica del lago Kariba, el mayor embalse artificial del continente, provocaron prolongados cortes de electricidad y trastornos económicos.\\n\\nÁfrica Occidental, Central y Oriental sufrieron inundaciones devastadoras que afectaron a más millones de personas, causando varios centenares de víctimas y cientos de miles de desplazamientos.\\n\\nPero, en África Oriental las precipitaciones de la temporada de octubre a diciembre fueron inferiores a la media, lo que suscitó preocupación por la seguridad alimentaria.\\n\\nEl norte de África registró su tercera cosecha consecutiva de cereales por debajo de la media debido a las escasas precipitaciones y a las temperaturas extremadamente altas.\\n\\nMejorar las previsiones meteorológicas con herramientas digitales\\n\\nMuchos países están adoptando la transformación digital para mejorar las previsiones meteorológicas y las alertas tempranas, con el uso de la inteligencia artificial, las herramientas de comunicación móvil y los modelos avanzados de predicción meteorológica están mejorando la precisión y el alcance de los servicios.\\n\\nEn 2024, 18 centros meteorológicos actualizaron sus sitios web y sistemas de comunicación digital para mejorar el alcance y el impacto de sus servicios, productos y alertas.\\n\\nVarias agencias meteorológicas han adoptado medidas digitales:\\n\\nNigeria utiliza plataformas digitales para difundir avisos agrícolas vitales e información climática\\n\\nKenia proporciona previsiones meteorológicas a agricultores y pescadores a través de aplicaciones móviles y mensajes SMS\\n\\nSudáfrica ha integrado herramientas de previsión basadas en IA y modernos sistemas de radar para realizar predicciones meteorológicas\\n\\nSin embargo, se requiere una mayor inversión en infraestructuras, marcos más sólidos de intercambio de datos y una prestación de servicios más inclusiva.\\n\\nSe necesita un mayor sentido de la urgencia para mejorar los sistemas de alerta temprana y reforzar la resiliencia y la adaptación al clima. El informe insta a los gobiernos, los asociados para el desarrollo y el sector privado a acelerar las inversiones climáticas inteligentes.\\n\\n“La OMM y sus asociados se han comprometido a trabajar con los Miembros para aumentar la resiliencia y fortalecer los esfuerzos de adaptación en África a través de iniciativas Early Warnings for All”, declaró Saulo.', 'Oficina de Coordinación Humanitaria rechaza plan israelí para la entrega de ayuda en Gaza\\n\\nLa Oficina para la Coordinación de Asuntos Humanitarios rechazó el martes un plan de las autoridades israelíes para cerrar el sistema de ayuda existente en Gaza.\\n\\nLa decisión se tomó tras una actualización oral recibida por parte de Israel, la cual fue evaluada conjuntamente por 15 agencias de la ONU y más de 200 organizaciones no gubernamentales.\\n\\n“Israel busca eliminar el sistema de ayuda existente” y que los suministros se repartan en centros israelíes en Gaza “bajo las condiciones que dicte el Ejército israelí una vez que el gobierno acepte reabrir los puntos fronterizos que llevan cerrados nueve semanas”, declaró Jens Laerke, portavoz de OCHA.\\n\\n“No aceptamos una propuesta y un plan que no esté a la altura de los principios humanitarios fundamentales de imparcialidad, neutralidad y entrega independiente de ayuda”. Subrayó. Agregó que el plan parece diseñado para “acentuar el control y las restricciones de la ayuda, que es lo opuesto a lo que se necesita”.\\n\\nEl portavoz reiteró que los equipos humanitarios siguen preparados para distribuir asistencia en cuanto se reabran los pasos fronterizos. “Hay una desesperante necesidad de que la comida entre, pero en lugar de eso (los gazatíes) reciben bombas, necesitan agua reciben bombas, necesitan ayuda sanitaria, reciben bombas, necesitan refugio reciben bombas así que por supuesto que hay que reanudar la ayuda a través de la frontera y tenemos suministros listos para entrar en Gaza”.\\n\\nLas agencias de la ONU han agotado sus reservas de alimentos en Gaza. “Escuchamos de nuestros colegas allí que observan a la gente rebuscando en la basura, tratando de encontrar algo comestible. Esa es la cruda, brutal e inhumana realidad de la situación”, concluyó Laerke.\\n\\nCondena por el ataque aéreo a hospital en Sudán del Sur\\n\\n© PMA/Eulalia Berlanga\\n\\nLa Comisión de Derechos Humanos de la ONU en Sudán del Sur condenó en los términos más enérgicos el ataque aéreo perpetrado contra un hospital de Médicos Sin Fronteras (MSF) en Old Fangak, estado de Jonglei, el pasado sábado 3 de mayo. El bombardeo destruyó por completo el centro médico, provocando la muerte de al menos siete civiles e hiriendo a numerosos pacientes, cuidadores y personal sanitario.\\n\\nLa Comisión calificó el hecho como un crimen atroz que podría constituir una grave violación del derecho internacional humanitario y un crimen de guerra.\\n\\nEl hospital de MSF era el único centro médico importante que atendía a más de 40.000 personas en la zona de Old Fangak\\n\\nAumento crítico de refugiados sudaneses en Chad\\n\\n© ACNUR/Andrew McConnell\\n\\nACNUR, la Agencia de la ONU para los Refugiados, informó del rápido aumento del número de refugiados sudaneses que cruzan hacia el este de Chad. En solo dos semanas, más de 18.500 personas –la mayoría mujeres y niños exhaustos y traumatizados– han llegado al país.\\n\\nMuchas de estas personas lo han hecho sin alimentos, documentación ni medios para subsistir.\\n\\nACNUR alertó sobre la urgente necesidad de apoyo internacional para responder a esta creciente crisis humanitaria.\\n\\nEl progreso en el desarrollo humano se ralentiza hasta el nivel más bajo en 35 años\\n\\n© Ministerio de Transformación Digital, Trinidad y Tobago\\n\\nEl desarrollo humano está experimentando una desaceleración sin precedentes, según señala un nuevo informe del Programa de las Naciones Unidas para el Desarrollo (PNUD).\\n\\nContrario a las expectativas de recuperación sostenida tras la crisis de 2020-2021, los avances proyectados para 2024 muestran un crecimiento notablemente débil del Índice de Desarrollo Humano (IDH), marcando el incremento más bajo desde 1990 si se excluyen los años de crisis recientes.\\n\\nEl Informe destaca cómo la inteligencia artificial puede desempeñar un papel transformador, aunque advierte sobre el agravamiento de las desigualdades entre países ricos y pobres.\\n\\n“Si el pobre avance de 2024 se convierte en ‘la nueva normalidad’, los objetivos fijados para 2030 podrían demorarse durante décadas, haciendo del planeta un lugar menos seguro, más dividido y más vulnerable a las perturbaciones económicas y ecológicas”, afirmó Achim Steiner, Administrador del PNUD.', \"El Informe sobre Desarrollo Humano, publicado este martes por el Programa de las Naciones Unidas para el Desarrollo (PNUD), muestra que las desigualdades entre países ricos y pobres han aumentado por cuarto año consecutivo y concluye que la inteligencia artificial (IA) podría ser una poderosa herramienta para mejorar millones de vidas si se utiliza de la forma adecuada.\\n\\nEl progreso del desarrollo humano, medido por las libertades y el bienestar de las personas, ha seguido siendo lento desde la gran conmoción que supuso la pandemia del COVID-19.\\n\\nDurante varias décadas, los indicadores de desarrollo humano mostraron una curva ascendente y constante, y los investigadores de la ONU predijeron que, para 2030, la población mundial disfrutaría de un alto nivel de desarrollo. Esas esperanzas se han visto truncadas en los últimos años, tras un periodo de crisis excepcionales como la pandemia del COVID-19, y los avances se han estancado en todas las regiones del mundo.\\n\\nLas presiones mundiales, como el aumento de las tensiones comerciales y el agravamiento de la crisis de la deuda, que limita la capacidad de los gobiernos para invertir en servicios de apoyo a sus poblaciones, como la atención sanitaria y la educación, están estrechando las vías tradicionales hacia el desarrollo.\\n\\n“Esta desaceleración señala una amenaza muy real para el progreso mundial”, afirmó Achim Steiner, administrador del PNUD.\\n\\n“Si el lento progreso de 2024 se convierte en 'la nueva normalidad', el hito de 2030 podría retrasarse décadas, haciendo que nuestro mundo sea menos seguro, esté más dividido y sea más vulnerable a las crisis económicas y ecológicas”.\\n\\n© Unsplash/Lukas\\n\\nPuede que, después de todo, los robots no vengan a por nuestros trabajos\\n\\nA pesar de los sombríos indicadores, el informe es optimista sobre el potencial de la inteligencia artificial, señalando el ritmo vertiginoso al que las herramientas gratuitas o de bajo coste han sido adoptadas por empresas y particulares por igual.\\n\\nEl informe incluye recomendaciones de actuación para garantizar que la inteligencia artificial sea lo más beneficiosa posible para el desarrollo humano, incluida la modernización de los sistemas educativos y sanitarios para satisfacer adecuadamente las necesidades actuales, la construcción de una economía centrada en la colaboración humana con la IA, y situar a las personas en el centro de todos los aspectos del desarrollo, desde el diseño hasta el despliegue.\\n\\n“Las decisiones que tomemos en los próximos años definirán el legado de esta transición tecnológica para el desarrollo humano”, afirmó Pedro Conceição, director de la oficina encargada del Informe.\\n\\n“Con las políticas adecuadas y centrándose en las personas, la IA puede ser un puente crucial hacia nuevos conocimientos, habilidades e ideas que pueden empoderar a todos, desde los agricultores hasta los propietarios de pequeñas empresas”.\\n\\nUso positivo de la inteligencia artificial en América Latina\\n\\nAlgunos países en América Latina han empezado a ver los cambios motivos que el uso adecuado de esta tecnología puede presentar. Colombia destaca por utilizarla para mejorar la prestación de servicios públicos a nivel municipal, los gobiernos locales han adoptado sistemas basados en datos para gestionar los escasos recursos de forma más eficiente.\\n\\nMéxico está creando el Laboratorio GenAI, un centro público-privado-académico destinado a ampliar el acceso a la IA y fomentar la innovación nacional. La iniciativa refleja los esfuerzos para vincular el desarrollo de esta tecnología con la utilidad pública.\\n\\nArgentina destaca por las aplicaciones feministas de la IA en su sistema judicial con proyectos como SOFIA, un chatbot que ayuda a las mujeres que sufren abusos en línea, muestran cómo el diseño de la IA puede cambiar las prioridades tecnológicas hacia la justicia y la inclusión.\\n\\nRomper el hechizo de la inevitabilidad tecnológica\\n\\nEn última instancia, el mensaje del informe es que el impacto de la IA dista mucho de ser inevitable: más que una fuerza autónoma, es un reflejo y un amplificador de los valores y las desigualdades de las sociedades que la conforman.\\n\\nPara evitar lo que denomina “decepción del desarrollo”, el PNUD insta a reforzar la cooperación mundial en materia de gobernanza de la IA, a alinear la innovación privada con los objetivos públicos y a renovar el compromiso con la dignidad humana, la equidad y la sostenibilidad.\", 'Gaza: “La gente se está matando por el agua” tras dos meses de bloqueo total\\n\\nLa situación humanitaria en Gaza ha alcanzado niveles extremos de desesperación tras dos meses de bloqueo israelí sumado a los bombardeos, advierte la Oficina de Coordinación de la Ayuda Humanitaria.\\n\\n“Acabo de verlo cuando me asomaba a la ventana: gente lanzándose piedras y disparándose mientras un camión cisterna se marchaba porque el agua se había agotado”, dijoOlga Cherevko, desde la Franja.\\n\\nTras dos meses sin entrada de ayuda, los civiles enfrentan hambre, sed, enfermedades y violencia.\\n\\n“Un amigo de la ciudad de Gaza me contó un recuerdo desgarrador. Me dijo vi a gente quemándose viva por las explosiones y no había agua para salvarlos”.\\n\\nCherevko hizo un llamado urgente a la comunidad internacional. “Tiene una opción: seguir revisando las espeluznantes imágenes de Gaza asfixiada y hambrienta, o reunir el coraje y la moral para tomar decisiones que rompan este bloqueo despiadado. El pueblo de Gaza no tiene esa opción. Su destino pende de un hilo de nuestra responsabilidad colectiva de actuar”, dijo.\\n\\n“Me preocupa que en 5, 10 o 20 años miraremos a nuestros hijos y nietos avergonzados y no seremos capaces de explicarles por qué no pudimos detener este horror”, concluyó.\\n\\nACNUR advierte que la crisis financiera obliga a cerrar programas clave para refugiados\\n\\n© ACNUR/Andrew McConnell\\n\\nLa agencia de la ONU para los Refugiados, ACNUR, alertó que la grave crisis financiera que enfrenta, agravada por la reducción de fondos de Estados Unidos ha obligado al cierre de programas esenciales de asistencia en todo el mundo.\\n\\nEn Colombia, estos recortes ponen en riesgo la documentación de unos 500.000 migrantes venezolanos. En África, el impacto es aún más grave: en Sudán del Sur, el 75 % de los espacios de asistencia a mujeres y niños han cerrado, dejando a unas 80.000 víctimas de violencia sexual sin atención médica, legal ni apoyo económico.\\n\\nAdemás, 63 programas de ayuda en Jordania, que beneficiaban a 200.000 personas, ya han sido suspendidos.\\n\\nLa retirada de Estados Unidos del programa de reasentamiento, tradicionalmente el mayor país receptor de refugiados deja un vacío significativo que muestra la importancia de la “responsabilidad compartida”.\\n\\n“La pérdida de ese programa de reasentamiento es un gran golpe para los refugiados en todo el mundo, y vemos un impacto significativo para las personas. El reasentamiento es, por supuesto, una solución solo para un pequeño número, pero esa solución salva vidas y hemos visto a personas muy, muy angustiadas. Refugiados que tienen sensación de desesperanza”, dijo Elizabeth Tan, directora de protección internacional.\\n\\nPeriodistas palestinos, blanco sistemático en Gaza y Cisjordania\\n\\nNoticias ONU\\n\\n“Los chalecos de prensa han pasado de ser una protección para convertirse en blancos de ataque”, denunció un periodista a la Oficina de Derechos Humanos de la ONU en el Territorio Palestino Ocupado.\\n\\nDesde el 7 de octubre de 2023, la ONU ha verificado de forma independiente el asesinato de 211 periodistas en Gaza, incluidas 28 mujeres. Según la UNESCO, al menos 47 murieron mientras ejercían su labor. A 29 de abril de 2025, 49 periodistas palestinos permanecen detenidos en cárceles israelíes, según la Comisión Palestina de Detenidos y Exdetenidos.\\n\\nEn el marco del Día Mundial de la Libertad de Prensa, la Oficina de Derechos Humanos recuerda que Israel impide el acceso de la prensa internacional a Gaza, salvo en visitas controladas por el ejército. Los periodistas palestinos, atrapados dentro, informan sobre la devastación mientras arriesgan su vida. La Oficina advierte de fuertes indicios de que varios han sido directamente atacados por el ejército israelí, lo que constituiría un crimen de guerra.\\n\\nEn la Cisjordania ocupada, la represión también es grave: detenciones arbitrarias, acusaciones por “incitación” en redes sociales, maltratos, humillaciones y violencia sexual forman parte de un patrón para intimidar y silenciar a la prensa palestina, a menudo vinculada por Israel con el “terrorismo” como justificación para cerrar medios.\\n\\nVolker Türk advierte sobre los riesgos de la IA para la libertad de prensa\\n\\nPublic Domain\\n\\nEl Alto Comisionado para los Derechos Humanos, Volker Türk, alertó sobre el creciente uso de la inteligencia artificial como herramienta de vigilancia, censura y desinformación, lo cual representa un riesgo significativo para el periodismo libre.\\n\\nLos algoritmos basados en la inteligencia artificial suelen dictar lo que vemos, dando forma a nuestras opiniones y a nuestras percepciones de la realidad, dijo Turk, añadiendo que gobiernos y actores políticos utilizan la IA para vigilar periodistas y manipular narrativas. Advirtió también sobre el impacto desproporcionado que esto tiene sobre las mujeres periodistas y cuestionó el control que ejercen unas pocas empresas sobre esta tecnología, lo que podría amplificar voces afines y silenciar la disidencia.', '“Tras perder la pierna en la guerra, volví al fotoperiodismo no sólo por trabajo, sino porque me encanta la fotografía desde la infancia”, afirma el reportero palestino Sami Shahada.\\n\\nShahada perdió la pierna debido a una grave herida que sufrió en Nuseirat, en el centro de Gaza, en abril de 2024, pero tomó su cámara y volvió para documentar los trágicos acontecimientos que se han estado desarrollando en la Franja.\\n\\nEl periodista no dejará que su discapacidad le impida trabajar. “Es imposible que deje el fotoperiodismo, aunque me enfrente a todos estos obstáculos”, afirmó.\\n\\nEn vísperas del Día Mundial de la Libertad de Prensa, que se celebra el 3 de mayo y se centra en el papel de los medios de comunicación para poner de relieve la responsabilidad, la justicia, la igualdad y los derechos humanos, el corresponsal de Noticias ONU en Gaza habló con periodistas palestinos, documentando los riesgos y traumas personales a los que se enfrentan al informar desde una Gaza devastada por la guerra.\\n\\n© UNICEF/Nateel\\n\\nDesde el 7 de octubre de 2023, la ONU ha verificado de forma independiente el asesinato de 211 periodistas en Gaza, incluidas 28 mujeres. Según la UNESCO, al menos 47 murieron mientras ejercían su labor. A 29 de abril de 2025, 49 periodistas palestinos permanecen detenidos en cárceles israelíes, según la Comisión Palestina de Detenidos y Exdetenidos.\\n\\n“Los chalecos de prensa han pasado de ser una protección para convertirse en blancos de ataque”, denunció un periodista a la Oficina de Derechos Humanos de la ONU en el Territorio Palestino Ocupado.\\n\\nPeriodistas por encima de todo\\n\\nEn una pierna, apoyado en muletas, Sami Shahada permanece de pie detrás de su cámara, con su chaqueta azul de prensa, trabajando con sus colegas entre los escombros de la destrucción.\\n\\n“Fui testigo de todos los crímenes que ocurrieron, y luego llegó el momento en que fui testigo de un crimen que se perpetró contra mí”, declaró a Noticias ONU.\\n\\nNoticias ONU\\n\\n“Yo era un periodista de campo, llevaba una cámara en una zona abierta y llevaba un casco y una chaqueta que me identificaban como periodista, y sin embargo fui directamente atacado”.\\n\\nAquel incidente marcó un punto de inflexión en su vida. “Antes no necesitaba ayuda de nadie, ahora la necesito”.\\n\\n“Tengo la determinación y la persistencia necesarias para superar esta nueva realidad. Así es como debemos trabajar los periodistas en Gaza”.\\n\\nLas calles son sus oficinas\\n\\nEl periodista Mohammed Abu Namous también es ejemplo de ello.\\n\\nFilmando con uno de sus colegas entre los escombros de un edificio destruido en la ciudad de Gaza, declaró: “Mientras el mundo celebra el Día Mundial de la Libertad de Prensa, los periodistas palestinos recuerdan sus lugares de trabajo, destruidos en la guerra”.\\n\\n“Lo mínimo que necesitamos para llevar a cabo nuestro trabajo periodístico es electricidad e Internet, pero muchos no disponen de ello, así que recurrimos a tiendas comerciales que nos proporcionan Internet. Las calles son ahora nuestras oficinas”.\\n\\nNoticias ONU\\n\\nEn su opinión, los periodistas palestinos han sido blanco de ataques durante la ocupación israelí de Gaza.\\n\\nAfirmó que hay que proteger a los trabajadores de los medios de comunicación “tanto si trabajan en Palestina como en cualquier otra parte del mundo”.\\n\\nSus voces no serán silenciadas: “cumplir con nuestra misión”\\n\\nEl periodista Moamen Sharafi dijo que había perdido a miembros de su familia en un bombardeo israelí en el norte de Gaza. A pesar de “los muchos impactos negativos a nivel personal, social y humanitario, profesionalmente nada ha cambiado”.\\n\\nSharafi estaba decidido a seguir trabajando, ya que tenía que emitir en directo desde las calles de la ciudad de Gaza.\\n\\nNoticias ONU\\n\\n“Estamos más decididos a continuar nuestro trabajo, a mantener nuestros valores profesionales y cumplir nuestra misión con humanidad ante el mundo”.\\n\\n“Para transmitir la realidad de lo que está ocurriendo sobre el terreno dentro de Gaza, concretamente la situación humanitaria, y el impacto en los niños, las mujeres y los ancianos, que sufren enormemente”, explicó.\\n\\nPeriodismo libre: un bien público esencial\\n\\n“La libertad de las personas depende de la libertad de prensa. El periodismo libre e independiente es un bien público esencial”, declaró el Secretario General en su mensaje por el Día Mundial de la Libertad de Prensa.\\n\\n“Cuando los periodistas no pueden trabajar, todos salimos perdiendo”.\\n\\n“Por desgracia, cada año esta labor se vuelve más difícil. Y más peligrosa”, continuó António Guterres, ya que los periodistas se enfrentan a agresiones, detenciones, censura, actos de intimidación y violencia e incluso la muerte “simplemente por hacer su trabajo”.\\n\\nAdemás, la inteligencia artificial presenta un reto, que “puede impulsar la libertad de expresión, o sofocarla”.\\n\\n“Los algoritmos sesgados, las mentiras descaradas y el discurso de odio son minas terrestres en la autopista de la información. La información precisa, verificable y objetiva es la mejor herramienta para desactivarlas”, dijo Guterres.']\n"
     ]
    }
   ],
   "source": [
    "print(contenidos_pre)"
   ]
  },
  {
   "cell_type": "markdown",
   "id": "1aa8e388-601b-4bc1-8abe-c157164cfbb9",
   "metadata": {},
   "source": [
    "Ahora, creamos un módulo que nos permita análizar y clasificar cada uno de los contenidos de la lista. Por vuestiones de privacidad, no puedo mostrar los datos del LLM que usé, basta decir que es uno muy popular. Además, no importa cual LLM se utilice. Con un *prompt* adecuado los resultados pueden ser suficientes. Así pues, del código omitiré las referencias al LLM usado, baste decir que se tiene que importar la o las librerías adecuadas y conectarse al LLM con un API (o de manera local si se tiene descargado el modelo)."
   ]
  },
  {
   "cell_type": "code",
   "execution_count": 16,
   "id": "6a8e7eee-f1b6-45c6-8061-f7f7fb783bbb",
   "metadata": {},
   "outputs": [],
   "source": [
    " clasificaciones = []"
   ]
  },
  {
   "cell_type": "markdown",
   "id": "ea535834-442d-4970-be49-ddb30985cd83",
   "metadata": {},
   "source": [
    "Una vez que se carga y se conecta con el LLM, se crea una lista vacía en donde irán las clasificaciones de las noticias hechas por el modelo. Posteriormente se itera sobre cada uno de los elementos de la lista de contenidos, la instrucción que se le da al LLM, y cada respuesta se guarda en la lista de clasificaciones. \n",
    "\n",
    "Para que la respuesta del LLM sea lo más adecuada posible, se tienen que crear un *propmt* adecuado, indicando el tipo de contenido que se dará, y el tipo de respuesta que deseamos obtener, así como algunos ejemplos. También es útil asignar roles al LLM para que de la respuesta con cierto estilo. En este punto se pueden utilizar diferentes técnicas de *prompt engineering*. Depende del usuario experimentar y ajustar su *prompt*. En est caso, se utilizó un *prompt* simple, pero funcional. Para consultar técnicas de *prompt engineering*: <a href=\"https://www.promptingguide.ai/es\" target=\"_blank\">prompt engineering guide</a>.\n",
    "\n",
    "A continuación dejó una imagen del prompt que utilicé para la clasificación:"
   ]
  },
  {
   "cell_type": "markdown",
   "id": "5c89107a-1f7c-4b23-a79a-7d15bc9d71c9",
   "metadata": {},
   "source": [
    "<div style=\"text-align: center;\">\n",
    "  <p><strong>Imagen 1: Prompt para clasificar</strong></p>\n",
    "  <img src=\"imagenes/01_prompt_clasificar.png\" width=\"70%\">\n",
    "  <p><em>Fuente: Elaboración propia</em></p>\n",
    "</div>"
   ]
  },
  {
   "cell_type": "markdown",
   "id": "187ca2af-4fb6-4a7c-a888-f1d5c16cba4c",
   "metadata": {},
   "source": [
    "Notece, que en este caso, hice que clasificara las noticias identifcando si hablaban sobre Gaza o algo relacionado con dicho lugar. Elegí esta orden para fines de esta demostración, pues anteriormente habia identificado que había algunas noticias que hablaban sobre este lugar, así que sería fácil corrorborar los resultados. Naturalmente, el usuario puede pedir que clasifique en función de cualquier otro criterio, como que se mencione cierta entidad o no, o que se trate sobre un cierto tema o no.\n",
    "\n",
    "Además, pedí que se diera una razón para justificar la clasificiación, lo que es útil para el usuario, pues le daría una guía para hacer su propia clasificación. Finalmente, agregamos la lista de las clasificaciones como una nueva columna a la base de datos de las noticias. Como la lista de contenidos y clasificacines tienen el mismo orden que las observaciones del base de noticias, pues salieron de allí, no hay problemas de orden. Así, pues, la nueva base con las clasificaciones quedaría algo como lo siguiente: "
   ]
  },
  {
   "cell_type": "code",
   "execution_count": 19,
   "id": "5a176f6d-d861-47be-8df6-07654be53470",
   "metadata": {},
   "outputs": [
    {
     "name": "stdout",
     "output_type": "stream",
     "text": [
      "                                              titulo  \\\n",
      "0  El cambio climático afecta cada vez más a los ...   \n",
      "1  Ayuda a Gaza, refugiados de Sudán, desarrollo ...   \n",
      "2  Desaceleración «alarmante» del desarrollo huma...   \n",
      "3  Gaza, refugiados, libertad de prensa... Las no...   \n",
      "4  Los periodistas de Gaza son testigos y víctima...   \n",
      "\n",
      "                                            url         fecha  \\\n",
      "0  https://news.un.org/es/story/2025/05/1538596  12 Mayo 2025   \n",
      "1  https://news.un.org/es/story/2025/05/1538536   6 Mayo 2025   \n",
      "2  https://news.un.org/es/story/2025/05/1538516   6 Mayo 2025   \n",
      "3  https://news.un.org/es/story/2025/05/1538451   2 Mayo 2025   \n",
      "4  https://news.un.org/es/story/2025/05/1538436   2 Mayo 2025   \n",
      "\n",
      "                                       clasificacion  \n",
      "0             Negativo, el texto no menciona a Gaza.  \n",
      "1  afirmativo, el texto menciona a Gaza ya que se...  \n",
      "2             negativo, el texto no menciona a Gaza.  \n",
      "3  afirmativo, el texto menciona a Gaza explícita...  \n",
      "4  Afirmativo, el texto menciona explícitamente a...  \n"
     ]
    }
   ],
   "source": [
    "base_noticias_pre['clasificacion'] = clasificaciones\n",
    "\n",
    "print (base_noticias_pre)"
   ]
  },
  {
   "cell_type": "markdown",
   "id": "a319f6ce-765d-4337-88cf-3333641cc978",
   "metadata": {},
   "source": [
    "Filtramos las noticias que no son relevantes, para quedarnos con una nueva base con las noticias de interés. "
   ]
  },
  {
   "cell_type": "code",
   "execution_count": 24,
   "id": "dc4cfbab-12d1-4a75-afc9-b3c4005cc670",
   "metadata": {},
   "outputs": [
    {
     "name": "stdout",
     "output_type": "stream",
     "text": [
      "                                              titulo  \\\n",
      "1  Ayuda a Gaza, refugiados de Sudán, desarrollo ...   \n",
      "3  Gaza, refugiados, libertad de prensa... Las no...   \n",
      "4  Los periodistas de Gaza son testigos y víctima...   \n",
      "\n",
      "                                            url        fecha  \\\n",
      "1  https://news.un.org/es/story/2025/05/1538536  6 Mayo 2025   \n",
      "3  https://news.un.org/es/story/2025/05/1538451  2 Mayo 2025   \n",
      "4  https://news.un.org/es/story/2025/05/1538436  2 Mayo 2025   \n",
      "\n",
      "                                       clasificacion  \n",
      "1  afirmativo, el texto menciona a Gaza ya que se...  \n",
      "3  afirmativo, el texto menciona a Gaza explícita...  \n",
      "4  Afirmativo, el texto menciona explícitamente a...  \n"
     ]
    }
   ],
   "source": [
    "base_def_noticias = base_noticias_pre[~base_noticias_pre['clasificacion'].isin( ['Negativo, el texto no menciona a Gaza.', 'negativo, el texto no menciona a Gaza.'])]\n",
    "print (base_def_noticias)"
   ]
  },
  {
   "cell_type": "markdown",
   "id": "f0c9bb8a-4f31-4010-9d03-a59cff909ba4",
   "metadata": {},
   "source": [
    "Finalmente, exportamos la base de datos como un archivo excel, en caso de que el usuario desee manipular o verificar dicha base."
   ]
  },
  {
   "cell_type": "code",
   "execution_count": 25,
   "id": "041d718f-dc64-4de7-bba8-4f063ef27945",
   "metadata": {},
   "outputs": [],
   "source": [
    "ruta_sal_def =r\"C:\\Users\\javal\\OneDrive\\Desktop\\Portafolio 9\\04_demo_monitoreo_noticias IA\\04\\base_noticias_def.xlsx\"\n",
    "base_def_noticias.to_excel(ruta_sal_def, index=False)"
   ]
  },
  {
   "cell_type": "markdown",
   "id": "b0ee8652-cf71-4b9d-a4c3-d77daf7c1f2d",
   "metadata": {},
   "source": [
    "El archivo de excel quedaría algo como lo siguiente:"
   ]
  },
  {
   "cell_type": "markdown",
   "id": "96b057e9-b2f4-4c77-9679-aaca3cf35b8f",
   "metadata": {},
   "source": [
    "<div style=\"text-align: center;\">\n",
    "  <p><strong>Imagen 2: Archivo excel con las clasificaciones propuestas por el LLM</strong></p>\n",
    "  <img src=\"imagenes/02_clasificacion_excel.png\" width=\"70%\">\n",
    "  <p><em>Fuente: Elaboración propia</em></p>\n",
    "</div>"
   ]
  },
  {
   "cell_type": "markdown",
   "id": "2ed8625d-7a56-4c47-ba95-17cf5748a1b0",
   "metadata": {},
   "source": [
    "# Paso 3: Resumir noticias con IA"
   ]
  },
  {
   "cell_type": "markdown",
   "id": "8cd98cea-c03c-4dc2-bd37-1b8493e2fe57",
   "metadata": {},
   "source": [
    "Una vez que se el usuario ha decidido de manera definitiva las noticias que son relevantes, quizá tenga que hacer un reporte de dichas noticias, y quizá dicho reporte deberá contener un resumen con ciertas características. Para ello, también nos podemos apoyar de la IA. Para ello, utilizaremos el mismo LLM del paso anterior (o bien se puede usar otro que sea especializado en la tarea). \n",
    "\n",
    "Com presuponemos que el usario hizo modificaciones al excel del paso anterior, cargamos la base modificada, le quitamos los valores nulos, y hacemos una lista de las url's, al igual que en el paso anterior. Nos saldrá algo como lo siguiente: "
   ]
  },
  {
   "cell_type": "code",
   "execution_count": 26,
   "id": "fb75121e-ab94-4699-89a1-7f3ca725be8f",
   "metadata": {},
   "outputs": [],
   "source": [
    "base_resumenes = pd.read_excel(r\"C:\\Users\\javal\\OneDrive\\Desktop\\Portafolio 9\\04_demo_monitoreo_noticias IA\\04\\base_noticias_def.xlsx\")\n",
    "\n",
    "urls_resumenes = base_resumenes['url'].dropna().tolist()"
   ]
  },
  {
   "cell_type": "code",
   "execution_count": 27,
   "id": "697b8947-b42d-4f04-8b49-393507f56737",
   "metadata": {},
   "outputs": [
    {
     "name": "stdout",
     "output_type": "stream",
     "text": [
      "                                              titulo  \\\n",
      "0  Ayuda a Gaza, refugiados de Sudán, desarrollo ...   \n",
      "1  Gaza, refugiados, libertad de prensa... Las no...   \n",
      "2  Los periodistas de Gaza son testigos y víctima...   \n",
      "\n",
      "                                            url        fecha  \\\n",
      "0  https://news.un.org/es/story/2025/05/1538536  6 Mayo 2025   \n",
      "1  https://news.un.org/es/story/2025/05/1538451  2 Mayo 2025   \n",
      "2  https://news.un.org/es/story/2025/05/1538436  2 Mayo 2025   \n",
      "\n",
      "                                       clasificacion  \n",
      "0  afirmativo, el texto menciona a Gaza ya que se...  \n",
      "1  afirmativo, el texto menciona a Gaza explícita...  \n",
      "2  Afirmativo, el texto menciona explícitamente a...  \n"
     ]
    }
   ],
   "source": [
    "print (base_resumenes)"
   ]
  },
  {
   "cell_type": "code",
   "execution_count": 28,
   "id": "e34f3878-815c-4944-8236-b559ef166cbf",
   "metadata": {},
   "outputs": [
    {
     "name": "stdout",
     "output_type": "stream",
     "text": [
      "['https://news.un.org/es/story/2025/05/1538536', 'https://news.un.org/es/story/2025/05/1538451', 'https://news.un.org/es/story/2025/05/1538436']\n"
     ]
    }
   ],
   "source": [
    "print (urls_resumenes)"
   ]
  },
  {
   "cell_type": "markdown",
   "id": "d2dca56f-66a4-4cf7-962b-728fc95e6089",
   "metadata": {},
   "source": [
    "Al igual que en el paso anterior, hacemos un *scraper* pararecuperar los contenidos de las noticias, y guardamos dichos contenidos en una lista: "
   ]
  },
  {
   "cell_type": "code",
   "execution_count": 29,
   "id": "128b48e5-774d-4fc8-a133-cfa2d98509d3",
   "metadata": {},
   "outputs": [],
   "source": [
    "contenidos_resumenes = []\r\n",
    "\r\n",
    "for url in urls_resumenes:\r\n",
    "    try:\r\n",
    "        articulo = Article(url)\r\n",
    "        articulo.download()\r\n",
    "        articulo.parse()\r\n",
    "        contenidos_resumenes.append(articulo.text)\r\n",
    "    except Exception as e:\r\n",
    "        print(f\"❌ Error al procesar {url}: {e}\")\r\n",
    "        contenidos_resumenes.append('Error')\r\n",
    "\r\n",
    "    # Pausa de 1.5 segundos entre cada descarga\r\n",
    "    time.sleep(1.5)"
   ]
  },
  {
   "cell_type": "markdown",
   "id": "6ebe59e3-66b4-4f6a-a8c2-542be4e57f82",
   "metadata": {},
   "source": [
    "Al igual que en paso anterior, se crea una lista para guardar los resumenes generados por el LLM."
   ]
  },
  {
   "cell_type": "code",
   "execution_count": 30,
   "id": "f89575fb-b426-4594-9e8a-3216d452e25a",
   "metadata": {},
   "outputs": [],
   "source": [
    "resumenes = []"
   ]
  },
  {
   "cell_type": "markdown",
   "id": "c05a4162-eeb3-482d-b317-b7dae8d66a27",
   "metadata": {},
   "source": [
    "Naturalmente, a diferencia del paso anterior, aquí modificamos el *prompt* para que nos de un resumen. Para hacer obvio la influencia de la indicación, pedí que me contará el resumen como si fuera un cuento de hadas. El *propmt* utilizado fue el siguiente:"
   ]
  },
  {
   "cell_type": "markdown",
   "id": "2cfb4e2d-bead-46d0-a536-5df101149111",
   "metadata": {},
   "source": [
    "<div style=\"text-align: center;\">\n",
    "  <p><strong>Imagen 3: Prompt para resumir</strong></p>\n",
    "  <img src=\"imagenes/03_prompt_resumir.png\" width=\"70%\">\n",
    "  <p><em>Fuente: Elaboración propia</em></p>\n",
    "</div>"
   ]
  },
  {
   "cell_type": "markdown",
   "id": "984f4dc1-0bd4-44ed-a677-9618ebf21225",
   "metadata": {},
   "source": [
    "Finalmente, anexamos los resumenes a la base que teníamos, y nos quedaría algo como lo siguiente:"
   ]
  },
  {
   "cell_type": "code",
   "execution_count": 31,
   "id": "71fcb69f-3c3d-47ad-9ae1-cc244f1a0644",
   "metadata": {},
   "outputs": [
    {
     "name": "stdout",
     "output_type": "stream",
     "text": [
      "                                              titulo  \\\n",
      "0  Ayuda a Gaza, refugiados de Sudán, desarrollo ...   \n",
      "1  Gaza, refugiados, libertad de prensa... Las no...   \n",
      "2  Los periodistas de Gaza son testigos y víctima...   \n",
      "\n",
      "                                            url        fecha  \\\n",
      "0  https://news.un.org/es/story/2025/05/1538536  6 Mayo 2025   \n",
      "1  https://news.un.org/es/story/2025/05/1538451  2 Mayo 2025   \n",
      "2  https://news.un.org/es/story/2025/05/1538436  2 Mayo 2025   \n",
      "\n",
      "                                       clasificacion  \\\n",
      "0  afirmativo, el texto menciona a Gaza ya que se...   \n",
      "1  afirmativo, el texto menciona a Gaza explícita...   \n",
      "2  Afirmativo, el texto menciona explícitamente a...   \n",
      "\n",
      "                                             resumen  \n",
      "0  Había una vez un lugar llamado Gaza, donde la ...  \n",
      "1  Había una vez en Gaza, donde la gente sufría s...  \n",
      "2  Había una vez un valiente reportero llamado Sa...  \n"
     ]
    }
   ],
   "source": [
    "base_resumenes['resumen'] = resumenes\n",
    "print (base_resumenes)"
   ]
  },
  {
   "cell_type": "markdown",
   "id": "e4b17414-f14d-4dfa-ab82-00e16dbd2cc8",
   "metadata": {},
   "source": [
    "Finalmente, se puede guardar esta base en un archivo excel, para futuros procesos o consultas."
   ]
  },
  {
   "cell_type": "code",
   "execution_count": 32,
   "id": "04cec5d0-b485-4cbf-ae6c-9e6fd5e610c3",
   "metadata": {},
   "outputs": [],
   "source": [
    "ruta_sal_con_resumen =r\"C:\\Users\\javal\\OneDrive\\Desktop\\Portafolio 9\\04_demo_monitoreo_noticias IA\\04\\base_noticias_def_resumen.xlsx\"\n",
    "base_resumenes.to_excel(ruta_sal_con_resumen, index=False)"
   ]
  },
  {
   "cell_type": "markdown",
   "id": "a4705691-a5ae-404a-8822-ac176c5de29f",
   "metadata": {},
   "source": [
    "<div style=\"text-align: center;\">\n",
    "  <p><strong>Imagen 4: Archivo excel con resumenes</strong></p>\n",
    "  <img src=\"imagenes/04_resumenes_excel.png\" width=\"70%\">\n",
    "  <p><em>Fuente: Elaboración propia</em></p>\n",
    "</div>"
   ]
  },
  {
   "cell_type": "markdown",
   "id": "7f518b1c-b365-46de-9b1e-2e8fa6427fcc",
   "metadata": {},
   "source": [
    "En la siguiente imagen se puede apreciar una sola línea para ver el resumen en detalle."
   ]
  },
  {
   "cell_type": "markdown",
   "id": "65347b74-1ac5-43ce-bbeb-d0ab55677d64",
   "metadata": {},
   "source": [
    "<div style=\"text-align: center;\">\n",
    "  <p><strong>Imagen 5: Archivo excel con resumenes, detalle de una sola observación</strong></p>\n",
    "  <img src=\"imagenes/05_resumen_detalle.png\" width=\"70%\">\n",
    "  <p><em>Fuente: Elaboración propia</em></p>\n",
    "</div>"
   ]
  },
  {
   "cell_type": "markdown",
   "id": "e418771a-9564-487a-be13-b48f27e1003d",
   "metadata": {},
   "source": [
    "# Paso 4: Reporte de resultados."
   ]
  },
  {
   "cell_type": "markdown",
   "id": "6c6390b0-b19a-4d8c-b1c4-011cd70baabb",
   "metadata": {},
   "source": [
    "A partir de los insumos producidos el usuario ya podría hacer un reporte con los insumos necesarios obtenidos en este punto. Sin embargo, si tenemos una plantilla de word con la estructura de los reportes, podríamos facilitar un poco el proceso. (Para saber más de cómo llenar documentos/plantillas con datos de manera automática ver: <a href=\"https://alevillegas9.github.io/02_Llenado_automatico_documentos/02.html\" target=\"_blank\">02. Llenado automático de archivos desde una base de datos con python</a> )"
   ]
  },
  {
   "cell_type": "markdown",
   "id": "6851ca41-58f6-496d-ae8b-777c2f335625",
   "metadata": {},
   "source": [
    "Así pues, importamos la librería que nos permite manipular documentos de word, y cargamos nuestra plantila. Recuerda que la plantilla debe de tener adecuadamente indicados los marcadores de los datos a llenar, y que para facilitar el proceso los marcadores deben coíncidiro con el nombre de las columnas de donde se tomarán los datos."
   ]
  },
  {
   "cell_type": "markdown",
   "id": "7049a0d2-dbb5-4f3a-8ef0-c56f2fa34404",
   "metadata": {},
   "source": [
    "<div style=\"text-align: center;\">\n",
    "  <p><strong>Imagen 6: Ejemplo de plantilla para reporte </strong></p>\n",
    "  <img src=\"imagenes/06_plantilla.png\" width=\"70%\">\n",
    "  <p><em>Fuente: Elaboración propia</em></p>\n",
    "</div>"
   ]
  },
  {
   "cell_type": "code",
   "execution_count": 33,
   "id": "5c308232-13dc-4478-8282-693860e4713c",
   "metadata": {},
   "outputs": [],
   "source": [
    "from docx import Document\n",
    "\n",
    "ruta_plantilla = r\"C:\\Users\\javal\\OneDrive\\Desktop\\Portafolio 9\\04_demo_monitoreo_noticias IA\\04\\noticias_relevantes_plantilla.docx\"\n",
    "\n",
    "plantilla = Document(ruta_plantilla)\n"
   ]
  },
  {
   "cell_type": "markdown",
   "id": "feed98ec-dcda-43de-96dd-866dff2b5569",
   "metadata": {},
   "source": [
    "Después, transformamos la plantilla en un string, para su manipulación. "
   ]
  },
  {
   "cell_type": "code",
   "execution_count": 35,
   "id": "bfad55e0-207e-41fa-bf38-8fac8370649a",
   "metadata": {},
   "outputs": [
    {
     "name": "stdout",
     "output_type": "stream",
     "text": [
      "Noticia relevante\n",
      "Título: {{titulo}}\n",
      "Link: {{url}}\n",
      "Fecha de publicación: {{fecha}}\n",
      "Resumen: {{resumen}}\n"
     ]
    }
   ],
   "source": [
    "plantilla_cont = \"\\n\".join([p.text for p in plantilla.paragraphs])\n",
    "print (plantilla_cont)"
   ]
  },
  {
   "cell_type": "markdown",
   "id": "16fbe8df-681f-4d4d-8b34-3abd84355f03",
   "metadata": {},
   "source": [
    "Creamos un reporte que es un documento word vacio al principio, y después lo llenamos con una iteración sobre cada observación de la base de datos. Notece la linea 4 del ciclo for, donde se da la instrucción de qué dato debe llenar qué marcador. "
   ]
  },
  {
   "cell_type": "code",
   "execution_count": 36,
   "id": "e4edffd4-0e1d-48ac-85b9-590f3814de2f",
   "metadata": {},
   "outputs": [],
   "source": [
    "reporte = Document()\n",
    "\n",
    "for _, fila in base_resumenes.iterrows():\n",
    "    texto = plantilla_cont\n",
    "    for clave, valor in fila.items():\n",
    "        marcador = f'{{{{{clave}}}}}'\n",
    "        texto = texto.replace(marcador, str(valor))\n",
    "    for linea in texto.split('\\n'):\n",
    "        reporte.add_paragraph(linea)\n",
    "    reporte.add_paragraph(\"\\n\")"
   ]
  },
  {
   "cell_type": "markdown",
   "id": "d6f55adc-4c66-434e-a6fc-6732e07e308d",
   "metadata": {},
   "source": [
    "Guardamos documeto"
   ]
  },
  {
   "cell_type": "code",
   "execution_count": null,
   "id": "d2ae6abd-4f64-4037-a1a7-07de6103f42b",
   "metadata": {},
   "outputs": [],
   "source": [
    "reporte.save(r\"C:\\Users\\javal\\OneDrive\\Desktop\\Portafolio 9\\04_demo_monitoreo_noticias IA\\04\\reporte.docx\")"
   ]
  },
  {
   "cell_type": "markdown",
   "id": "59f981c8-f27e-4bed-be65-9d99bc5bf656",
   "metadata": {},
   "source": [
    "Y nos saldría un documento como el siguiente:"
   ]
  },
  {
   "cell_type": "markdown",
   "id": "7962d3f8-d7db-4b3c-b21f-a69c9ffb0613",
   "metadata": {},
   "source": [
    "<div style=\"text-align: center;\">\n",
    "  <p><strong>Imagen 7: Ejemplo de reporte automatizado </strong></p>\n",
    "  <img src=\"imagenes/07_reporte.png\" width=\"70%\">\n",
    "  <p><em>Fuente: Elaboración propia</em></p>\n",
    "</div>"
   ]
  },
  {
   "cell_type": "markdown",
   "id": "955d3340-f18d-4b7c-abb9-0498d5fc93ef",
   "metadata": {},
   "source": [
    "Finalmente, el usuario puede modificar el reporte, o modificar la plantilla para que la modificación del reporte no sea necesaria."
   ]
  },
  {
   "cell_type": "markdown",
   "id": "031a1926-b9ac-4347-a154-0506e8344b6d",
   "metadata": {},
   "source": [
    "# Conclusiones"
   ]
  },
  {
   "cell_type": "markdown",
   "id": "38af2dba-de43-4963-b673-98ce9fa63e41",
   "metadata": {},
   "source": [
    "El proceso de monitoreo de noticias puede ser muy exhaustivo, sobretodo cuando se tienen que monitorear una gran cantidad de portales, de noticias individuales y en un periodo corto de tiempo. Sin embargo, gracias a las nuevas tecnologías de IA y herramientas como python, este proceso se puede simplificar de manera considerable, sin sustituir la acción humana. En este sentido, en este documento se mostró una pequeña demostración de como esto puede ser posible, y cómo en cada paso el usuario puede tener el control del proceso y supervisarlo. \n",
    "\n",
    "Estoy convencido de que las herramientas de IA no podrán sustituir a la acción y conocimiento de un experto, pero sí puede ser una herramienta muy valiosa para potenciar su accción. "
   ]
  }
 ],
 "metadata": {
  "kernelspec": {
   "display_name": "Python 3 (ipykernel)",
   "language": "python",
   "name": "python3"
  },
  "language_info": {
   "codemirror_mode": {
    "name": "ipython",
    "version": 3
   },
   "file_extension": ".py",
   "mimetype": "text/x-python",
   "name": "python",
   "nbconvert_exporter": "python",
   "pygments_lexer": "ipython3",
   "version": "3.11.7"
  }
 },
 "nbformat": 4,
 "nbformat_minor": 5
}
